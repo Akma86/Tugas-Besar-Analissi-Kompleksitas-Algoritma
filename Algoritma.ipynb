{
 "cells": [
  {
   "cell_type": "markdown",
   "metadata": {},
   "source": [
    "## Algoritma Greedy (Iteratif)"
   ]
  },
  {
   "cell_type": "code",
   "execution_count": 1,
   "metadata": {},
   "outputs": [],
   "source": [
    "def greedy_knapsack(values, weights, capacity):\n",
    "    # Hitung density (nilai per berat)\n",
    "    density = [(values[i] / weights[i], values[i], weights[i]) for i in range(len(values))]\n",
    "    # Urutkan berdasarkan density (descending)\n",
    "    density.sort(reverse=True, key=lambda x: x[0])\n",
    "    \n",
    "    total_value = 0\n",
    "    remaining_capacity = capacity\n",
    "    \n",
    "    for d, value, weight in density:\n",
    "        if weight <= remaining_capacity:\n",
    "            # Ambil barang sepenuhnya\n",
    "            total_value += value\n",
    "            remaining_capacity -= weight\n",
    "        else:\n",
    "            # Ambil fraksi dari barang terakhir\n",
    "            total_value += d * remaining_capacity\n",
    "            break\n",
    "\n",
    "    return total_value\n"
   ]
  },
  {
   "cell_type": "markdown",
   "metadata": {},
   "source": [
    "## Algoritma backTracking (Rekursif)"
   ]
  },
  {
   "cell_type": "code",
   "execution_count": 2,
   "metadata": {},
   "outputs": [],
   "source": [
    "def backtracking_knapsack(values, weights, capacity, n):\n",
    "    # Basis: Jika tidak ada barang atau kapasitas habis\n",
    "    if n == 0 or capacity == 0:\n",
    "        return 0\n",
    "\n",
    "    # Jika berat barang lebih besar dari kapasitas, lewati barang\n",
    "    if weights[n - 1] > capacity:\n",
    "        return backtracking_knapsack(values, weights, capacity, n - 1)\n",
    "\n",
    "    # Pilih maksimum antara dua opsi:\n",
    "    # 1. Tidak ambil barang ke-n\n",
    "    # 2. Ambil barang ke-n\n",
    "    without_item = backtracking_knapsack(values, weights, capacity, n - 1)\n",
    "    with_item = values[n - 1] + backtracking_knapsack(values, weights, capacity - weights[n - 1], n - 1)\n",
    "\n",
    "    return max(without_item, with_item)\n"
   ]
  },
  {
   "cell_type": "markdown",
   "metadata": {},
   "source": [
    "## Inputasi"
   ]
  },
  {
   "cell_type": "code",
   "execution_count": 3,
   "metadata": {},
   "outputs": [
    {
     "name": "stdout",
     "output_type": "stream",
     "text": [
      "Greedy Solution: 240.0\n",
      "Backtracking Solution: 220\n"
     ]
    }
   ],
   "source": [
    "values = [60, 100, 120]\n",
    "weights = [10, 20, 30]\n",
    "capacity = 50\n",
    "\n",
    "# Greedy\n",
    "print(\"Greedy Solution:\", greedy_knapsack(values, weights, capacity))\n",
    "\n",
    "# Backtracking\n",
    "n = len(values)\n",
    "print(\"Backtracking Solution:\", backtracking_knapsack(values, weights, capacity, n))\n"
   ]
  },
  {
   "cell_type": "code",
   "execution_count": null,
   "metadata": {},
   "outputs": [],
   "source": []
  }
 ],
 "metadata": {
  "kernelspec": {
   "display_name": "Python 3",
   "language": "python",
   "name": "python3"
  },
  "language_info": {
   "codemirror_mode": {
    "name": "ipython",
    "version": 3
   },
   "file_extension": ".py",
   "mimetype": "text/x-python",
   "name": "python",
   "nbconvert_exporter": "python",
   "pygments_lexer": "ipython3",
   "version": "3.12.2"
  }
 },
 "nbformat": 4,
 "nbformat_minor": 2
}
