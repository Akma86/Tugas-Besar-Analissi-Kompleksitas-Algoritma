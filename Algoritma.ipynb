{
 "cells": [
  {
   "cell_type": "markdown",
   "metadata": {},
   "source": [
    "## Algoritma backTracking (Rekursif)"
   ]
  },
  {
   "cell_type": "code",
   "execution_count": 1,
   "metadata": {},
   "outputs": [],
   "source": [
    "def knapsack_recursive(weights, values, capacity, index=0, total_weight=0, total_value=0):\n",
    "    # Jika kapasitas terlampaui atau tidak ada item yang tersisa\n",
    "    if total_weight > capacity or index == len(weights):\n",
    "        \n",
    "        return total_value if total_weight <= capacity else 0\n",
    "\n",
    "    # Pilih item saat ini\n",
    "    with_item = knapsack_recursive(\n",
    "        weights, values, capacity, index + 1, total_weight + weights[index], total_value + values[index]\n",
    "    )\n",
    "    \n",
    "    # Lewati item saat ini\n",
    "    without_item = knapsack_recursive(\n",
    "        weights, values, capacity, index + 1, total_weight, total_value\n",
    "    )\n",
    "\n",
    "    # Kembalikan nilai maksimum antara memilih dan tidak memilih item\n",
    "    return max(with_item, without_item)\n"
   ]
  },
  {
   "cell_type": "markdown",
   "metadata": {},
   "source": [
    "## Algoritma backTracking (Iteratif)"
   ]
  },
  {
   "cell_type": "code",
   "execution_count": 2,
   "metadata": {},
   "outputs": [],
   "source": [
    "def knapsack_iterative(weights, values, capacity):\n",
    "    # Stack untuk menyimpan status (index, total_weight, total_value)\n",
    "    stack = [(0, 0, 0)]  \n",
    "    max_value = 0\n",
    "\n",
    "    while stack:\n",
    "        index, total_weight, total_value = stack.pop()\n",
    "\n",
    "        # Update nilai maksimum jika nilai sekarang lebih baik\n",
    "        if total_weight <= capacity:\n",
    "            max_value = max(max_value, total_value)\n",
    "\n",
    "        # Jika masih ada item yang bisa diproses\n",
    "        if index < len(weights):\n",
    "            # Pilih item saat ini\n",
    "            stack.append((index + 1, total_weight + weights[index], total_value + values[index]))\n",
    "            # Lewati item saat ini\n",
    "            stack.append((index + 1, total_weight, total_value))\n",
    "\n",
    "    return max_value\n"
   ]
  },
  {
   "cell_type": "markdown",
   "metadata": {},
   "source": [
    "## Inputasi"
   ]
  },
  {
   "cell_type": "code",
   "execution_count": 3,
   "metadata": {},
   "outputs": [
    {
     "name": "stdout",
     "output_type": "stream",
     "text": [
      "Iterative Result: 220\n",
      "Recursive Result: 220\n"
     ]
    }
   ],
   "source": [
    "# Data barang\n",
    "weights = [10, 20, 30]  # Berat masing-masing item\n",
    "values = [60, 100, 120] # Nilai masing-masing item\n",
    "capacity = 50           # Kapasitas tas\n",
    "\n",
    "# Hasil dengan metode iteratif\n",
    "iterative_result = knapsack_iterative(weights, values, capacity)\n",
    "print(\"Iterative Result:\", iterative_result)\n",
    "\n",
    "# Hasil dengan metode rekursif\n",
    "recursive_result = knapsack_recursive(weights, values, capacity)\n",
    "print(\"Recursive Result:\", recursive_result)"
   ]
  },
  {
   "cell_type": "code",
   "execution_count": null,
   "metadata": {},
   "outputs": [],
   "source": [
    "import time\n",
    "import random\n",
    "import matplotlib.pyplot as plt\n",
    "\n",
    "def generate_data(n, weight_range=(1, 10), value_range=(1, 20)):\n",
    "    weights = [random.randint(*weight_range) for _ in range(n)]\n",
    "    values = [random.randint(*value_range) for _ in range(n)]\n",
    "    return weights, values\n",
    "\n",
    "# Ukuran masukan yang akan diuji\n",
    "input_sizes = [1, 10, 20, 30, 40, 50, 60, 70, 80, 90, 100, 110, 120, 130, 140, 150, 160, 170, 180, 190, 200, 500, 1000, 1500]  # Tambahkan hingga batas yang diinginkan\n",
    "capacity = 50\n",
    "\n",
    "# Hasil running time\n",
    "iterative_times = []\n",
    "recursive_times = []\n",
    "\n",
    "for n in input_sizes:\n",
    "    weights, values = generate_data(n)\n",
    "\n",
    "    # Hitung waktu untuk knapsack_iterative\n",
    "    start_time = time.time()\n",
    "    knapsack_iterative(weights, values, capacity)\n",
    "    end_time = time.time()\n",
    "    iterative_times.append(end_time - start_time)\n",
    "\n",
    "    # Hitung waktu untuk knapsack_recursive\n",
    "    start_time = time.time()\n",
    "    knapsack_recursive(weights, values, capacity)\n",
    "    end_time = time.time()\n",
    "    recursive_times.append(end_time - start_time)\n",
    "\n",
    "# Plot hasil\n",
    "plt.figure(figsize=(10, 6))\n",
    "plt.plot(input_sizes, iterative_times, label=\"Iterative\", marker=\"o\")\n",
    "plt.plot(input_sizes, recursive_times, label=\"Recursive\", marker=\"o\")\n",
    "plt.xlabel(\"Input Size (n)\")\n",
    "plt.ylabel(\"Running Time (seconds)\")\n",
    "plt.title(\"Comparison of Iterative and Recursive Knapsack Algorithms\")\n",
    "plt.legend()\n",
    "plt.grid()\n",
    "plt.show()"
   ]
  },
  {
   "cell_type": "code",
   "execution_count": null,
   "metadata": {},
   "outputs": [],
   "source": []
  }
 ],
 "metadata": {
  "kernelspec": {
   "display_name": "Python 3",
   "language": "python",
   "name": "python3"
  },
  "language_info": {
   "codemirror_mode": {
    "name": "ipython",
    "version": 3
   },
   "file_extension": ".py",
   "mimetype": "text/x-python",
   "name": "python",
   "nbconvert_exporter": "python",
   "pygments_lexer": "ipython3",
   "version": "3.12.2"
  }
 },
 "nbformat": 4,
 "nbformat_minor": 2
}
